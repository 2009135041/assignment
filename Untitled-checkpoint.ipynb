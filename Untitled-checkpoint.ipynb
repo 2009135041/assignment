{
 "cells": [
  {
   "cell_type": "markdown",
   "metadata": {},
   "source": [
    "•L=[1, 2, 3, 4, 5]일 때 다음 각 문장을 수행한 후의 결과를 보고 납득할 만한 이유를 설명하시오. \n",
    "\n",
    "1)L[1:3] = [100]\n",
    "\n",
    "print L\n",
    "\n",
    "2)L[1:3] = [(100)]\n",
    "\n",
    "print L\n",
    "\n",
    "3)L[1:3] = 100\n",
    "\n",
    "print L\n",
    "\n",
    "4)L[1:3] = (100)\n",
    "\n",
    "print L\n",
    "\n",
    "5)L[1:3] = (100, 101, 102)\n",
    "\n",
    "print L\n",
    "\n",
    "6)L[1:3] = [100, 101, 102]\n",
    "\n",
    "print L\n",
    "\n",
    "7)L[1:3] = [(100, 101, 102)]\n",
    "\n",
    "print L\n",
    "\n",
    "8)L[1:3] = [[100, 101, 102]]\n",
    "\n",
    "print L"
   ]
  },
  {
   "cell_type": "code",
   "execution_count": 3,
   "metadata": {
    "collapsed": false
   },
   "outputs": [
    {
     "name": "stdout",
     "output_type": "stream",
     "text": [
      "[1, 100, 4, 5]\n"
     ]
    }
   ],
   "source": [
    "L=[1, 2, 3, 4, 5]\n",
    "L[1:3] = [100]\n",
    "print L"
   ]
  },
  {
   "cell_type": "markdown",
   "metadata": {},
   "source": [
    "1번 원소부터 3번 원소 전까지를 100으로 대체"
   ]
  },
  {
   "cell_type": "code",
   "execution_count": 4,
   "metadata": {
    "collapsed": false
   },
   "outputs": [
    {
     "name": "stdout",
     "output_type": "stream",
     "text": [
      "[1, 100, 4, 5]\n"
     ]
    }
   ],
   "source": [
    "L=[1, 2, 3, 4, 5]\n",
    "L[1:3] = [(100)]\n",
    "print L"
   ]
  },
  {
   "cell_type": "markdown",
   "metadata": {},
   "source": [
    "1번 원소부터 3번 원소 전까지를 100으로 대체"
   ]
  },
  {
   "cell_type": "code",
   "execution_count": 32,
   "metadata": {
    "collapsed": false
   },
   "outputs": [
    {
     "ename": "TypeError",
     "evalue": "can only assign an iterable",
     "output_type": "error",
     "traceback": [
      "\u001b[1;31m---------------------------------------------------------------------------\u001b[0m",
      "\u001b[1;31mTypeError\u001b[0m                                 Traceback (most recent call last)",
      "\u001b[1;32m<ipython-input-32-1ad846aab580>\u001b[0m in \u001b[0;36m<module>\u001b[1;34m()\u001b[0m\n\u001b[0;32m      1\u001b[0m \u001b[0mL\u001b[0m\u001b[1;33m=\u001b[0m\u001b[1;33m[\u001b[0m\u001b[1;36m1\u001b[0m\u001b[1;33m,\u001b[0m \u001b[1;36m2\u001b[0m\u001b[1;33m,\u001b[0m \u001b[1;36m3\u001b[0m\u001b[1;33m,\u001b[0m \u001b[1;36m4\u001b[0m\u001b[1;33m,\u001b[0m \u001b[1;36m5\u001b[0m\u001b[1;33m]\u001b[0m\u001b[1;33m\u001b[0m\u001b[0m\n\u001b[1;32m----> 2\u001b[1;33m \u001b[0mL\u001b[0m\u001b[1;33m[\u001b[0m\u001b[1;36m1\u001b[0m\u001b[1;33m:\u001b[0m\u001b[1;36m3\u001b[0m\u001b[1;33m]\u001b[0m \u001b[1;33m=\u001b[0m \u001b[1;36m100\u001b[0m\u001b[1;33m\u001b[0m\u001b[0m\n\u001b[0m\u001b[0;32m      3\u001b[0m \u001b[1;32mprint\u001b[0m \u001b[0mL\u001b[0m\u001b[1;33m\u001b[0m\u001b[0m\n",
      "\u001b[1;31mTypeError\u001b[0m: can only assign an iterable"
     ]
    }
   ],
   "source": [
    "L=[1, 2, 3, 4, 5]\n",
    "L[1:3] = 100\n",
    "print L"
   ]
  },
  {
   "cell_type": "markdown",
   "metadata": {},
   "source": [
    "리스트값을 인트값으로 변경불가"
   ]
  },
  {
   "cell_type": "code",
   "execution_count": 28,
   "metadata": {
    "collapsed": false
   },
   "outputs": [
    {
     "ename": "TypeError",
     "evalue": "can only assign an iterable",
     "output_type": "error",
     "traceback": [
      "\u001b[1;31m---------------------------------------------------------------------------\u001b[0m",
      "\u001b[1;31mTypeError\u001b[0m                                 Traceback (most recent call last)",
      "\u001b[1;32m<ipython-input-28-143eddb86e76>\u001b[0m in \u001b[0;36m<module>\u001b[1;34m()\u001b[0m\n\u001b[0;32m      1\u001b[0m \u001b[0mL\u001b[0m\u001b[1;33m=\u001b[0m\u001b[1;33m[\u001b[0m\u001b[1;36m1\u001b[0m\u001b[1;33m,\u001b[0m \u001b[1;36m2\u001b[0m\u001b[1;33m,\u001b[0m \u001b[1;36m3\u001b[0m\u001b[1;33m,\u001b[0m \u001b[1;36m4\u001b[0m\u001b[1;33m,\u001b[0m \u001b[1;36m5\u001b[0m\u001b[1;33m]\u001b[0m\u001b[1;33m\u001b[0m\u001b[0m\n\u001b[1;32m----> 2\u001b[1;33m \u001b[0mL\u001b[0m\u001b[1;33m[\u001b[0m\u001b[1;36m1\u001b[0m\u001b[1;33m:\u001b[0m\u001b[1;36m3\u001b[0m\u001b[1;33m]\u001b[0m \u001b[1;33m=\u001b[0m \u001b[1;33m(\u001b[0m\u001b[1;36m100\u001b[0m\u001b[1;33m)\u001b[0m\u001b[1;33m\u001b[0m\u001b[0m\n\u001b[0m\u001b[0;32m      3\u001b[0m \u001b[1;32mprint\u001b[0m \u001b[0mL\u001b[0m\u001b[1;33m\u001b[0m\u001b[0m\n",
      "\u001b[1;31mTypeError\u001b[0m: can only assign an iterable"
     ]
    }
   ],
   "source": [
    "L=[1, 2, 3, 4, 5]\n",
    "L[1:3] = (100)\n",
    "print L"
   ]
  },
  {
   "cell_type": "markdown",
   "metadata": {},
   "source": [
    "리스트값을 인트값으로 변경불가, 만약 튜플로 변경하기 위해서는, (100,) 로 입력"
   ]
  },
  {
   "cell_type": "code",
   "execution_count": 29,
   "metadata": {
    "collapsed": false
   },
   "outputs": [
    {
     "name": "stdout",
     "output_type": "stream",
     "text": [
      "[1, 100, 101, 102, 4, 5]\n"
     ]
    }
   ],
   "source": [
    "L=[1, 2, 3, 4, 5]\n",
    "L[1:3] = (100, 101, 102)\n",
    "print L"
   ]
  },
  {
   "cell_type": "markdown",
   "metadata": {},
   "source": [
    "1번 원소부터, 3번원소 전까지를 100, 101, 102 로 변경"
   ]
  },
  {
   "cell_type": "code",
   "execution_count": 30,
   "metadata": {
    "collapsed": false
   },
   "outputs": [
    {
     "name": "stdout",
     "output_type": "stream",
     "text": [
      "[1, 100, 101, 102, 4, 5]\n"
     ]
    }
   ],
   "source": [
    "L=[1, 2, 3, 4, 5]\n",
    "L[1:3] = [100, 101, 102]\n",
    "print L"
   ]
  },
  {
   "cell_type": "markdown",
   "metadata": {},
   "source": [
    "1번 원소부터, 3번원소 전까지를 100, 101, 102 로 변경"
   ]
  },
  {
   "cell_type": "code",
   "execution_count": 31,
   "metadata": {
    "collapsed": false
   },
   "outputs": [
    {
     "name": "stdout",
     "output_type": "stream",
     "text": [
      "[1, (100, 101, 102), 4, 5]\n"
     ]
    }
   ],
   "source": [
    "L=[1, 2, 3, 4, 5]\n",
    "L[1:3] = [(100, 101, 102)]\n",
    "print L"
   ]
  },
  {
   "cell_type": "markdown",
   "metadata": {},
   "source": [
    "1번 원소부터, 3번원소 전까지를 (100, 101, 102) 로 변경"
   ]
  },
  {
   "cell_type": "code",
   "execution_count": 54,
   "metadata": {
    "collapsed": false
   },
   "outputs": [
    {
     "name": "stdout",
     "output_type": "stream",
     "text": [
      "[1, [100, 101, 102], 4, 5]\n"
     ]
    }
   ],
   "source": [
    "L=[1, 2, 3, 4, 5]\n",
    "L[1:3] = [[100, 101, 102]]\n",
    "print L"
   ]
  },
  {
   "cell_type": "markdown",
   "metadata": {},
   "source": [
    "1번 원소부터, 3번원소 전까지를 [100, 101, 102] 로 변경"
   ]
  },
  {
   "cell_type": "markdown",
   "metadata": {},
   "source": [
    "•문자열 S = 'Hello World and Python'에 대해 다음 요구사항에 대한 Python 코드를 제시하시오. \n",
    "\n",
    "1) 단어의 순서가 역순으로 되어진 문자열 ('Python and World Hello')을 만들고 \n",
    "\n",
    "2) 1)의 결과 문자열에 대해 메소드 split과 join을 이용하여 공백을 모두 없엔 문자열 'PythonandWorldHello'을 만드시오.\n"
   ]
  },
  {
   "cell_type": "code",
   "execution_count": 55,
   "metadata": {
    "collapsed": false
   },
   "outputs": [
    {
     "name": "stdout",
     "output_type": "stream",
     "text": [
      "Python and World Hello\n",
      "PythonandWorldHello\n"
     ]
    }
   ],
   "source": [
    "S = 'Hello World and Python'\n",
    "L = S.split()\n",
    "L1 = L[3] + ' ' + L[2] + ' ' +  L[1]+ ' ' + L[0]\n",
    "print L1\n",
    "L2 = ''.join(L[::-1])\n",
    "print L2"
   ]
  },
  {
   "cell_type": "markdown",
   "metadata": {},
   "source": [
    "•다음 코드를 보고 물음에 답하시오.\n",
    "\n",
    "a = [1, 2, 3]\n",
    "\n",
    "b = a * 3\n",
    "\n",
    "c = [a] * 3\n",
    "\n",
    "print b\n",
    "\n",
    "print c\n",
    "\n",
    "1) 위 코드를 수행한 이후 다음 코드를 수행한 후 b와 c의 내용을 확인하시오.a[0]=0\n",
    "\n",
    "2) b와 c 객체의 차이는 무엇인가?\n"
   ]
  },
  {
   "cell_type": "code",
   "execution_count": null,
   "metadata": {
    "collapsed": true
   },
   "outputs": [],
   "source": []
  }
 ],
 "metadata": {
  "kernelspec": {
   "display_name": "Python 2",
   "language": "python",
   "name": "python2"
  },
  "language_info": {
   "codemirror_mode": {
    "name": "ipython",
    "version": 2
   },
   "file_extension": ".py",
   "mimetype": "text/x-python",
   "name": "python",
   "nbconvert_exporter": "python",
   "pygments_lexer": "ipython2",
   "version": "2.7.9"
  }
 },
 "nbformat": 4,
 "nbformat_minor": 0
}
