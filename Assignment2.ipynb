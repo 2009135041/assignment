{
 "cells": [
  {
   "cell_type": "markdown",
   "metadata": {},
   "source": [
    "(1) 다음 6 개의 Expression에 대해 Evaluation 결과 값을 출력하고, 해당 결과가 나온 이유에 대해 설명하시오\n",
    "\n",
    "1 and 2 and 3 and 4\n",
    "\n",
    "1 or 2 or 3 or 4\n",
    "\n",
    "1 and 2 or 3 and 4\n",
    "\n",
    "(1 and 2) or (3 and 4)\n",
    "\n",
    "1 or 2 and 3 or 4\n",
    "\n",
    "(1 or 2) and (3 or 4)"
   ]
  },
  {
   "cell_type": "code",
   "execution_count": 2,
   "metadata": {
    "collapsed": false
   },
   "outputs": [
    {
     "name": "stdout",
     "output_type": "stream",
     "text": [
      "4\n",
      "1\n",
      "2\n",
      "2\n",
      "1\n",
      "3\n"
     ]
    }
   ],
   "source": [
    "print 1 and 2 and 3 and 4\n",
    "print 1 or 2 or 3 or 4\n",
    "print 1 and 2 or 3 and 4\n",
    "print (1 and 2) or (3 and 4)\n",
    "print 1 or 2 and 3 or 4\n",
    "print (1 or 2) and (3 or 4)"
   ]
  },
  {
   "cell_type": "markdown",
   "metadata": {},
   "source": [
    "1 and 2 and 3 and 4:\n",
    "1부터 4까지 모두 true이기 때문에, 마지막 값인 4를 return\n",
    "\n",
    "1 or 2 or 3 or 4:\n",
    "1이 트루이기 때문에 뒤를 확인 할 필요없이 1을 return\n",
    "\n",
    "1 and 2 or 3 and 4:\n",
    "1과 2 모두 true이기 때문에, 2를 return\n",
    "\n",
    "(1 and 2) or (3 and 4):\n",
    "앞에서 2를 return 하고 or 이기 때문에, 2를 바로 return\n",
    "\n",
    "1 or 2 and 3 or 4:\n",
    "1이 트루이기 때문에 바로 1을 return\n",
    "\n",
    "(1 or 2) and (3 or 4):\n",
    "앞의 항에서 true값 2를 반환하고, 뒤에서 트루값 3을 반환, and에 의해 뒤의 3을 최종 리턴"
   ]
  },
  {
   "cell_type": "markdown",
   "metadata": {},
   "source": [
    "(2) 키보드로 정수값을 입력 받고 그 값이 양수인지 음수인지를 비트 연산자를 이용하여 판단하는 프로그램을 작성하시오."
   ]
  },
  {
   "cell_type": "code",
   "execution_count": 3,
   "metadata": {
    "collapsed": false
   },
   "outputs": [
    {
     "name": "stdout",
     "output_type": "stream",
     "text": [
      "Input number1\n",
      "양수\n"
     ]
    }
   ],
   "source": [
    "n = int(raw_input('Input number'))\n",
    "if ((n >> 8) == 0):\n",
    "    print '양수'\n",
    "else:\n",
    "    print '음수'"
   ]
  },
  {
   "cell_type": "markdown",
   "metadata": {
    "collapsed": true
   },
   "source": [
    "(3) 경로에 해당하는 문자열 1개를 입력 받아 그 안에 디렉토리 경로명과 파일명을 분리하여 리스트로 반환하는 함수 div_path(s)를 작성하시오.\n",
    "\n",
    "인자로 전달하는 문자열은 경로만 들어간다고 가정한다.\n",
    "\n",
    "각 디렉토리와 파일을 구분하는 문자는 '/'로 가정한다.\n",
    "\n",
    "반환하는 리스트의 첫번째 원소는 디렉토리이고 두번째 원소는 파일명이다.\n",
    "\n",
    "다음과 같은 실행 및 출력 결과가 도출되어야 한다.\n",
    "\n",
    "div_path('/usr/local/bin/python')\n",
    "\n",
    "['/usr/local/bin', 'python']\n",
    "\n",
    "div_path('/home/chulsoo/test.txt')\n",
    "\n",
    "['/home/chulsoo', 'test.txt']\n",
    "\n",
    "[참고] 리스트(l) 내에 새로운 정수값 (예를 들어 10)을 넣는 방법은 l.append(10) 이다."
   ]
  },
  {
   "cell_type": "code",
   "execution_count": 12,
   "metadata": {
    "collapsed": false
   },
   "outputs": [
    {
     "name": "stdout",
     "output_type": "stream",
     "text": [
      "Input /usr/local/bin/python\n",
      "[' /usr/local/bin/', 'python']\n"
     ]
    }
   ],
   "source": [
    "ary = raw_input('Input ')\n",
    "\n",
    "def div_path(s):\n",
    "    l = []\n",
    "    div = '/'\n",
    "    div_s = s.split(div)\n",
    "    \n",
    "    sp = ' '\n",
    "    \n",
    "    for i in range(len(div_s)):\n",
    "        if(i != len(div_s) - 1):\n",
    "            sp = sp + div_s[i]\n",
    "            sp = sp + div\n",
    "    l.append(sp)\n",
    "    l.append(div_s[i])\n",
    "    \n",
    "    return l\n",
    "    \n",
    "print div_path(ary)\n"
   ]
  },
  {
   "cell_type": "markdown",
   "metadata": {
    "collapsed": true
   },
   "source": [
    "(4) 두 개의 리스트를 인자로 받아서 그 두 개의 리스트에 대한 '합집합'을 반환하는 함수 list_union(lista, listb)를 작성하시오.\n",
    "\n",
    "인자로 전달하는 리스트 2 개에는 정수값만 들어간다고 가정하자.\n",
    "\n",
    "함수 내에서 새로운 리스트를 만들어 그 리스트 내에 인자로 받은 두 리스트의 모든 원소를 넣어 반환한다.\n",
    "\n",
    "반환하는 리스트에는 절대로 중복된 원소가 들어 있으면 안된다 (집합의 조건).\n",
    "\n",
    "반환하는 리스트는 정렬이 되어 있어야 한다.\n",
    "\n",
    "다음과 같은 실행 및 출력 결과가 도출되어야 한다.\n",
    "\n",
    "list_union([1, 2, 3], [1, 2, 4])\n",
    "    [1, 2, 3, 4]\n",
    "\n",
    "list_union([-10, -5, 0, -1], [100, 9, 0, 9])\n",
    "    [-10, -5, -1, 0, 9, 100]\n",
    "\n",
    "list_union([0, 1, 2], [0, 1, 2])\n",
    "    [0, 1, 2]\n",
    "\n",
    "[참고] 리스트(l) 내에 새로운 정수값 (예를 들어 10)을 넣는 방법은 l.append(10) 이다.\n",
    "\n",
    "[참고] 임의의 정수값 (x)이 리스트 (l) 내에 존재하는지 판단하는 방법은 x in l 이다."
   ]
  },
  {
   "cell_type": "code",
   "execution_count": 17,
   "metadata": {
    "collapsed": false
   },
   "outputs": [
    {
     "data": {
      "text/plain": [
       "[-2, -1, 1, 3, 4, 5, 6, 8]"
      ]
     },
     "execution_count": 17,
     "metadata": {},
     "output_type": "execute_result"
    }
   ],
   "source": [
    "def list_union(lista, listb):    \n",
    "    \n",
    "    for i in range(len(listb)):\n",
    "        if(listb[i] in a):\n",
    "            pass\n",
    "        else:\n",
    "            a.append(listb[i])\n",
    "    a.sort()\n",
    "    return a\n",
    "\n",
    "a = [1, 3, 5, 6, 4]\n",
    "b = [-1, 8, 4, -2, 3]\n",
    "\n",
    "list_union(a, b)"
   ]
  },
  {
   "cell_type": "markdown",
   "metadata": {},
   "source": [
    "(오일러 4) 앞에서부터 읽을 때나 뒤에서부터 읽을 때나 모양이 같은 수를 대칭수(palindrome)라고 부릅니다.\n",
    "\n",
    "두 자리 수를 곱해 만들 수 있는 대칭수 중 가장 큰 수는 9009 (= 91 × 99) 입니다.\n",
    "\n",
    "세 자리 수를 곱해 만들 수 있는 가장 큰 대칭수는 얼마입니까?"
   ]
  },
  {
   "cell_type": "code",
   "execution_count": 27,
   "metadata": {
    "collapsed": false
   },
   "outputs": [
    {
     "name": "stdout",
     "output_type": "stream",
     "text": [
      "906609\n"
     ]
    }
   ],
   "source": [
    "def palindrome(num):\n",
    "    length = len(str(num)) / 2\n",
    "    for x in range(0, length):\n",
    "        if str(num)[x] != str(num)[-x-1]:\n",
    "            return 0\n",
    "    return 1\n",
    "\n",
    "result = 0\n",
    "\n",
    "for y in range(100, 1000):\n",
    "    for z in range(100, 1000):\n",
    "        if palindrome(y * z):\n",
    "            result = max(result, y * z)\n",
    "print result"
   ]
  },
  {
   "cell_type": "markdown",
   "metadata": {},
   "source": [
    "(오일러 5) 1 ~ 10 사이의 어떤 수로도 나누어 떨어지는 가장 작은 수는 2520입니다.\n",
    "\n",
    "그러면 1 ~ 20 사이의 어떤 수로도 나누어 떨어지는 가장 작은 수는 얼마입니까?"
   ]
  },
  {
   "cell_type": "code",
   "execution_count": 37,
   "metadata": {
    "collapsed": false
   },
   "outputs": [
    {
     "name": "stdout",
     "output_type": "stream",
     "text": [
      "232792560\n"
     ]
    }
   ],
   "source": [
    "result = 1\n",
    "k = 1\n",
    "i = 2\n",
    "j = 2\n",
    " \n",
    "while i <= 20:\n",
    "    while j <= i:\n",
    "        if j == i:\n",
    "            while k * j < 20:\n",
    "                k = k * j\n",
    "            \n",
    "            result *= k\n",
    "            k = 1\n",
    "            break\n",
    "        \n",
    "        elif i % j == 0:\n",
    "            break\n",
    "       \n",
    "        else:\n",
    "            j += 1 \n",
    "    j = 2\n",
    "    i += 1\n",
    "\n",
    "print result \n",
    "\n"
   ]
  },
  {
   "cell_type": "markdown",
   "metadata": {},
   "source": [
    "(오일러 6) 1부터 10까지 자연수를 각각 제곱해 더하면 다음과 같습니다 (제곱의 합).\n",
    "\n",
    "12 + 22 + ... + 102 = 385\n",
    "1부터 10을 먼저 더한 다음에 그 결과를 제곱하면 다음과 같습니다 (합의 제곱).\n",
    "\n",
    "(1 + 2 + ... + 10)2 = 552 = 3025\n",
    "따라서 1부터 10까지 자연수에 대해 \"합의 제곱\"과 \"제곱의 합\" 의 차이는 3025 - 385 = 2640 이 됩니다.\n",
    "\n",
    "그러면 1부터 100까지 자연수에 대해 \"합의 제곱\"과 \"제곱의 합\"의 차이는 얼마입니까?"
   ]
  },
  {
   "cell_type": "code",
   "execution_count": 39,
   "metadata": {
    "collapsed": false
   },
   "outputs": [
    {
     "name": "stdout",
     "output_type": "stream",
     "text": [
      "25164150\n"
     ]
    }
   ],
   "source": [
    "square_sum = 0\n",
    "isum = 0\n",
    " \n",
    "for i in range(1,101):\n",
    "    isum = isum + i\n",
    "    square = i*i\n",
    "    square_sum = square_sum + square\n",
    "\n",
    "sum_square = isum * isum\n",
    " \n",
    "print(sum_square-square_sum)"
   ]
  },
  {
   "cell_type": "markdown",
   "metadata": {},
   "source": [
    "과제 수행에 있어 많은 어려움이 있었다. 이러닝을 보고 또 봐도 문제를 도저히 쉽게 풀수가 없었다. 수업시간에 딴짓을 하는것도 아닌데, 많은 당황스러움을 느낄수 있었다. 많은 시간을 할애하여, 스크립트 프로그래밍 공부를 하여야겠다."
   ]
  },
  {
   "cell_type": "code",
   "execution_count": null,
   "metadata": {
    "collapsed": true
   },
   "outputs": [],
   "source": []
  }
 ],
 "metadata": {
  "kernelspec": {
   "display_name": "Python 2",
   "language": "python",
   "name": "python2"
  },
  "language_info": {
   "codemirror_mode": {
    "name": "ipython",
    "version": 2
   },
   "file_extension": ".py",
   "mimetype": "text/x-python",
   "name": "python",
   "nbconvert_exporter": "python",
   "pygments_lexer": "ipython2",
   "version": "2.7.9"
  }
 },
 "nbformat": 4,
 "nbformat_minor": 0
}
